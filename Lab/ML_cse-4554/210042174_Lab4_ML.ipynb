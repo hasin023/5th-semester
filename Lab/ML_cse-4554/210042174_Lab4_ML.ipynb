{
  "nbformat": 4,
  "nbformat_minor": 0,
  "metadata": {
    "colab": {
      "provenance": []
    },
    "kernelspec": {
      "name": "python3",
      "display_name": "Python 3"
    },
    "language_info": {
      "name": "python"
    }
  },
  "cells": [
    {
      "cell_type": "markdown",
      "source": [
        "# NN Implementation"
      ],
      "metadata": {
        "id": "PJoBdZiIDt_P"
      }
    },
    {
      "cell_type": "code",
      "execution_count": null,
      "metadata": {
        "id": "hklga16w6F6i"
      },
      "outputs": [],
      "source": [
        "import torch\n",
        "n_input , n_hidden , n_output = 5 , 3, 1"
      ]
    },
    {
      "cell_type": "code",
      "source": [
        "## Initialize tensor for inputs and outputs\n",
        "x = torch.randn ((1 , n_input ))\n",
        "y = torch.randn ((1 , n_output ))\n",
        "\n",
        "## Initialize tensor variables for weights\n",
        "w1 = torch.randn ( n_input , n_hidden ) # weight for hidden layer\n",
        "w2 = torch.randn ( n_hidden , n_output ) # weight for output layer\n",
        "\n",
        "## initialize tensor variables for bias terms\n",
        "b1 = torch.randn ((1 , n_hidden )) # bias for hidden layer\n",
        "b2 = torch.randn ((1 , n_output )) # bias for output layer"
      ],
      "metadata": {
        "id": "kd--EO6NCAdU"
      },
      "execution_count": null,
      "outputs": []
    },
    {
      "cell_type": "code",
      "source": [
        "## sigmoid activation function using pytorch\n",
        "def sigmoid_activation (z):\n",
        "  return 1 / (1 + torch .exp (-z))\n",
        "\n",
        "## activation of hidden layer\n",
        "z1 = torch.mm(x, w1) + b1\n",
        "a1 = sigmoid_activation (z1)\n",
        "## activation ( output ) of final layer\n",
        "z2 = torch.mm(a1 , w2) + b2\n",
        "output = sigmoid_activation (z2)"
      ],
      "metadata": {
        "id": "N8kfQIHrCotZ"
      },
      "execution_count": null,
      "outputs": []
    },
    {
      "cell_type": "code",
      "source": [
        "loss = y - output\n",
        "print(loss)"
      ],
      "metadata": {
        "colab": {
          "base_uri": "https://localhost:8080/"
        },
        "id": "be10C-hKDJ9x",
        "outputId": "88514bbe-4edb-4c50-df35-96878c981834"
      },
      "execution_count": null,
      "outputs": [
        {
          "output_type": "stream",
          "name": "stdout",
          "text": [
            "tensor([[-0.5710]])\n"
          ]
        }
      ]
    },
    {
      "cell_type": "code",
      "source": [
        "## function to calculate the derivative of activation\n",
        "def sigmoid_delta (x):\n",
        "  return x * (1 - x)\n",
        "\n",
        "## compute derivative of error terms\n",
        "delta_output = sigmoid_delta ( output )\n",
        "delta_hidden = sigmoid_delta (a1)\n",
        "## backpass the changes to previous layers\n",
        "d_outp = loss * delta_output\n",
        "loss_h = torch .mm(d_outp , w2.t())\n",
        "d_hidn = loss_h * delta_hidden"
      ],
      "metadata": {
        "id": "PnzZJcHdDYdm"
      },
      "execution_count": null,
      "outputs": []
    },
    {
      "cell_type": "code",
      "source": [
        "learning_rate = 0.1\n",
        "\n",
        "w2 += torch .mm(a1.t() , d_outp ) * learning_rate\n",
        "w1 += torch .mm(x.t() , d_hidn ) * learning_rate\n",
        "b2 += d_outp .sum () * learning_rate\n",
        "b1 += d_hidn .sum () * learning_rate"
      ],
      "metadata": {
        "id": "rde-0MILDi6k"
      },
      "execution_count": null,
      "outputs": []
    },
    {
      "cell_type": "markdown",
      "source": [
        "# TASK - MNIST"
      ],
      "metadata": {
        "id": "6_E-nGwBGpKz"
      }
    },
    {
      "cell_type": "code",
      "source": [
        "74%3"
      ],
      "metadata": {
        "colab": {
          "base_uri": "https://localhost:8080/"
        },
        "id": "zQheRF6qLYWv",
        "outputId": "6a8a905d-64ea-4826-c3a0-03d11c84580a"
      },
      "execution_count": null,
      "outputs": [
        {
          "output_type": "execute_result",
          "data": {
            "text/plain": [
              "2"
            ]
          },
          "metadata": {},
          "execution_count": 32
        }
      ]
    },
    {
      "cell_type": "code",
      "source": [
        "import torch\n",
        "import torchvision\n",
        "import torchvision.transforms as transforms\n",
        "from torch.utils.data import DataLoader, Subset\n",
        "import numpy as np\n",
        "import matplotlib.pyplot as plt"
      ],
      "metadata": {
        "id": "MpnzvwykGrYe"
      },
      "execution_count": null,
      "outputs": []
    },
    {
      "cell_type": "code",
      "source": [
        "transform = transforms.Compose([transforms.ToTensor(), transforms.Normalize((0.5,), (0.5,))])"
      ],
      "metadata": {
        "id": "k7vObQrgSRGy"
      },
      "execution_count": null,
      "outputs": []
    },
    {
      "cell_type": "code",
      "source": [
        "train_dataset = torchvision.datasets.MNIST(root=\"./data\", train=True, transform=transform, download=True)\n",
        "test_dataset = torchvision.datasets.MNIST(root=\"./data\", train=False, transform=transform, download=True)"
      ],
      "metadata": {
        "id": "MdedHWEqHFX-"
      },
      "execution_count": null,
      "outputs": []
    },
    {
      "cell_type": "code",
      "source": [
        "len(train_dataset)"
      ],
      "metadata": {
        "colab": {
          "base_uri": "https://localhost:8080/"
        },
        "id": "vKqt92J_HToV",
        "outputId": "3f167575-910f-47ea-b9fc-e4a0859edf81"
      },
      "execution_count": null,
      "outputs": [
        {
          "output_type": "execute_result",
          "data": {
            "text/plain": [
              "60000"
            ]
          },
          "metadata": {},
          "execution_count": 46
        }
      ]
    },
    {
      "cell_type": "code",
      "source": [
        "len(test_dataset)"
      ],
      "metadata": {
        "colab": {
          "base_uri": "https://localhost:8080/"
        },
        "id": "YrTEJsMTHbDl",
        "outputId": "1fba30fc-e0f2-4a32-89ea-15f4f8416585"
      },
      "execution_count": null,
      "outputs": [
        {
          "output_type": "execute_result",
          "data": {
            "text/plain": [
              "10000"
            ]
          },
          "metadata": {},
          "execution_count": 47
        }
      ]
    },
    {
      "cell_type": "code",
      "source": [
        "selected_classes = {0, 1, 2, 3, 4}\n",
        "\n",
        "train_indices = []\n",
        "\n",
        "for i, (img, label) in enumerate(train_dataset):\n",
        "    if label in selected_classes:\n",
        "        train_indices.append(i)\n",
        "\n",
        "\n",
        "filtered_train_dataset = Subset(train_dataset, train_indices)"
      ],
      "metadata": {
        "id": "Va66HnMMHimC"
      },
      "execution_count": null,
      "outputs": []
    },
    {
      "cell_type": "code",
      "source": [
        "len(filtered_train_dataset)"
      ],
      "metadata": {
        "colab": {
          "base_uri": "https://localhost:8080/"
        },
        "id": "XCLze1lAIGPK",
        "outputId": "281570d0-c418-4e0c-d825-1010e101e6ad"
      },
      "execution_count": null,
      "outputs": [
        {
          "output_type": "execute_result",
          "data": {
            "text/plain": [
              "30596"
            ]
          },
          "metadata": {},
          "execution_count": 49
        }
      ]
    },
    {
      "cell_type": "code",
      "source": [
        "test_indices = []\n",
        "\n",
        "for i, (img, label) in enumerate(test_dataset):\n",
        "    if label in selected_classes:\n",
        "        test_indices.append(i)\n",
        "\n",
        "filtered_test_dataset = Subset(test_dataset, test_indices)"
      ],
      "metadata": {
        "id": "G__fHBvOH5oM"
      },
      "execution_count": null,
      "outputs": []
    },
    {
      "cell_type": "code",
      "source": [
        "len(filtered_test_dataset)"
      ],
      "metadata": {
        "colab": {
          "base_uri": "https://localhost:8080/"
        },
        "id": "v7c4DmH7IJuD",
        "outputId": "71f2f587-9b21-43cf-ad35-bec1f56e0391"
      },
      "execution_count": null,
      "outputs": [
        {
          "output_type": "execute_result",
          "data": {
            "text/plain": [
              "5139"
            ]
          },
          "metadata": {},
          "execution_count": 51
        }
      ]
    },
    {
      "cell_type": "code",
      "source": [
        "train_size = int(0.8 * len(filtered_train_dataset))\n",
        "val_size = len(filtered_train_dataset) - train_size\n",
        "filtered_train_dataset, filtered_val_dataset = torch.utils.data.random_split(filtered_train_dataset, [train_size, val_size])"
      ],
      "metadata": {
        "id": "cccQb6ruRhXz"
      },
      "execution_count": null,
      "outputs": []
    },
    {
      "cell_type": "code",
      "source": [
        "train_loader = DataLoader(filtered_train_dataset, batch_size=64, shuffle=True)\n",
        "val_loader = DataLoader(filtered_val_dataset, batch_size=64, shuffle=False)\n",
        "test_loader = DataLoader(filtered_test_dataset, batch_size=64, shuffle=False)"
      ],
      "metadata": {
        "id": "Bov-alSqRo9m"
      },
      "execution_count": null,
      "outputs": []
    },
    {
      "cell_type": "code",
      "source": [
        "74%1000"
      ],
      "metadata": {
        "colab": {
          "base_uri": "https://localhost:8080/"
        },
        "id": "cyT5991NK3H2",
        "outputId": "f3813153-e0a8-4f2e-8663-c02c4cd0b73f"
      },
      "execution_count": null,
      "outputs": [
        {
          "output_type": "execute_result",
          "data": {
            "text/plain": [
              "74"
            ]
          },
          "metadata": {},
          "execution_count": 54
        }
      ]
    },
    {
      "cell_type": "code",
      "source": [
        "class TinyModel(torch.nn.Module):\n",
        "    def __init__(self):\n",
        "        super(TinyModel, self).__init__()\n",
        "        self.flatten = torch.nn.Flatten()\n",
        "        self.linear1 = torch.nn.Linear(28 * 28, 74)   # Input Layer\n",
        "        self.linear2 = torch.nn.Linear(74, 74)        # Hidden Layer\n",
        "        self.linear3 = torch.nn.Linear(74, 74)        # Hidden Layer\n",
        "        self.linear4 = torch.nn.Linear(74, 74)        # Hidden Layer\n",
        "        self.linear5 = torch.nn.Linear(74, 10)        # Output Layer\n",
        "        self.activation = torch.nn.Sigmoid()\n",
        "        self.softmax = torch.nn.Softmax(dim=1)\n",
        "\n",
        "    def forward(self, x):\n",
        "        x = self.flatten(x)\n",
        "        x = self.activation(self.linear1(x))\n",
        "        x = self.activation(self.linear2(x))\n",
        "        x = self.activation(self.linear3(x))\n",
        "        x = self.activation(self.linear4(x))\n",
        "        x = self.linear5(x)\n",
        "        return x"
      ],
      "metadata": {
        "id": "6xEtz7pFLTiX"
      },
      "execution_count": null,
      "outputs": []
    },
    {
      "cell_type": "code",
      "source": [
        "device = torch.device(\"cuda\" if torch.cuda.is_available() else \"cpu\")\n",
        "model = TinyModel().to(device)\n",
        "optimizer = torch.optim.Adam(model.parameters(), lr=0.001)\n",
        "criterion = torch.nn.CrossEntropyLoss()"
      ],
      "metadata": {
        "id": "QNNg35AAL1Xh"
      },
      "execution_count": null,
      "outputs": []
    },
    {
      "cell_type": "code",
      "source": [
        "num_epochs = 10"
      ],
      "metadata": {
        "id": "IJsdkUN-UIuU"
      },
      "execution_count": null,
      "outputs": []
    },
    {
      "cell_type": "code",
      "source": [
        "for epoch in range(num_epochs):\n",
        "    model.train()\n",
        "    running_loss = 0.0\n",
        "    correct = 0\n",
        "    total = 0\n",
        "    for images, labels in train_loader:\n",
        "        images, labels = images.to(device), labels.to(device)\n",
        "\n",
        "        # Zero the parameter gradients\n",
        "        optimizer.zero_grad()\n",
        "\n",
        "        # Forward pass\n",
        "        outputs = model(images)\n",
        "\n",
        "        # Calculate loss\n",
        "        loss = criterion(outputs, labels)\n",
        "\n",
        "        # Backward pass and optimize\n",
        "        loss.backward()\n",
        "        optimizer.step()\n",
        "\n",
        "        # Statistics\n",
        "        running_loss += loss.item()\n",
        "        _, predicted = torch.max(outputs.data, 1)\n",
        "        correct += (predicted == labels).sum().item()\n",
        "        total += labels.size(0)\n",
        "\n",
        "    train_acc = 100 * correct / total\n",
        "    print(f\"Epoch {epoch+1}, Loss: {running_loss/len(train_loader):.4f}, Train Accuracy: {train_acc:.2f}%\")"
      ],
      "metadata": {
        "colab": {
          "base_uri": "https://localhost:8080/"
        },
        "id": "jbCCa8kSRWX9",
        "outputId": "b71af3e5-2dd0-4562-edb7-c9590ff36283"
      },
      "execution_count": null,
      "outputs": [
        {
          "output_type": "stream",
          "name": "stdout",
          "text": [
            "Epoch 1, Loss: 1.1436, Train Accuracy: 51.87%\n",
            "Epoch 2, Loss: 0.2635, Train Accuracy: 93.01%\n",
            "Epoch 3, Loss: 0.1233, Train Accuracy: 97.00%\n",
            "Epoch 4, Loss: 0.0955, Train Accuracy: 97.65%\n",
            "Epoch 5, Loss: 0.0792, Train Accuracy: 98.02%\n",
            "Epoch 6, Loss: 0.0662, Train Accuracy: 98.26%\n",
            "Epoch 7, Loss: 0.0559, Train Accuracy: 98.57%\n",
            "Epoch 8, Loss: 0.0503, Train Accuracy: 98.65%\n",
            "Epoch 9, Loss: 0.0424, Train Accuracy: 98.89%\n",
            "Epoch 10, Loss: 0.0388, Train Accuracy: 98.93%\n"
          ]
        }
      ]
    },
    {
      "cell_type": "code",
      "source": [
        "model.eval()\n",
        "test_correct = 0\n",
        "test_total = 0\n",
        "with torch.no_grad():\n",
        "    for images, labels in test_loader:\n",
        "        images, labels = images.to(device), labels.to(device)\n",
        "        outputs = model(images)\n",
        "        _, predicted = torch.max(outputs.data, 1)\n",
        "        test_total += labels.size(0)\n",
        "        test_correct += (predicted == labels).sum().item()\n",
        "\n",
        "test_accuracy = 100 * test_correct / test_total\n",
        "print(f\"Test Accuracy: {test_accuracy:.2f}%\")"
      ],
      "metadata": {
        "colab": {
          "base_uri": "https://localhost:8080/"
        },
        "id": "rQw-JonUS1qn",
        "outputId": "5678600d-dba3-46e3-b7d3-0f2bb56bac39"
      },
      "execution_count": null,
      "outputs": [
        {
          "output_type": "stream",
          "name": "stdout",
          "text": [
            "Test Accuracy: 99.05%\n"
          ]
        }
      ]
    }
  ]
}