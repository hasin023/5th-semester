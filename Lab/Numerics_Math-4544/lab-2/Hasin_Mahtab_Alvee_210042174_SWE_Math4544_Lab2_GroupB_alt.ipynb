{
  "nbformat": 4,
  "nbformat_minor": 0,
  "metadata": {
    "colab": {
      "provenance": []
    },
    "kernelspec": {
      "name": "python3",
      "display_name": "Python 3"
    },
    "language_info": {
      "name": "python"
    }
  },
  "cells": [
    {
      "cell_type": "markdown",
      "metadata": {
        "id": "SChhcgB_Tkv9"
      },
      "source": [
        "# **Lab 2 : Direct method of Interpolation**<br>\n",
        "\n",
        "Interpolation is the process of estimating unknown data that lies within the range of some known data. The simplest interpolation is the **Direct method of Interpolation**. In order to interpolate unknown data, one needs to define a model that would fit the known data and based on that model, one would obtain the unknown data. This model would basically be a function that tries to satisfy the known data points. There can be various types of functions that may satisfy the same given data points, but for interpolation, we usually choose **polynomials** as interpolating functions due to the fact that polynomials are very easy to evaluate, differentiate and integrate.\n",
        "\n",
        "In today's lab, we will be implementing the Direct method of Interpolation in python. To test our implementation, we will be using the same data that we used during our class lectures. Run the following cell to load the known data points:\n"
      ]
    },
    {
      "cell_type": "markdown",
      "metadata": {
        "id": "3sOLCbqJT7q0"
      },
      "source": [
        "##Task 1\n",
        "Design a utility function that will be called in the `DirectInterpolation` function. The purpose of this function will be to find the $n+1$ closest points to the unknown value $t_{new}$ where we want to interpolate the data, where $n$ is the order of the interpolating polynomial. Understand that the nearest points should be selected such that they bracket the $t_{new}$. The function to be implemented is as follows:"
      ]
    },
    {
      "cell_type": "code",
      "metadata": {
        "id": "rZ4tGQSjTvYF"
      },
      "source": [
        "t = [0, 10, 15, 20, 22.5, 30]\n",
        "v = [0, 227.04, 362.78, 517.35, 602.97, 901.67]"
      ],
      "execution_count": null,
      "outputs": []
    },
    {
      "cell_type": "code",
      "metadata": {
        "id": "f6HGUB7nT9k9"
      },
      "source": [
        "def NearestPoints(t, v, n, t_new):\n",
        "\n",
        "  all_distances = []\n",
        "\n",
        "  for i in range(len(t)):\n",
        "    distance = abs(t[i] - t_new)\n",
        "    all_distances.append((distance, i))\n",
        "\n",
        "\n",
        "  all_distances.sort()\n",
        "  print(all_distances)\n",
        "  sorted_distances = all_distances[:n+1]\n",
        "  print(sorted_distances)\n",
        "\n",
        "  nearest_indices = []\n",
        "  for distance, index in sorted_distances:\n",
        "    nearest_indices.append(index)\n",
        "\n",
        "  nearest_indices.sort()\n",
        "\n",
        "\n",
        "  t_nearest = []\n",
        "  v_nearest = []\n",
        "\n",
        "  for index in nearest_indices:\n",
        "    t_nearest.append(t[index])\n",
        "    v_nearest.append(v[index])\n",
        "\n",
        "  return t_nearest, v_nearest"
      ],
      "execution_count": null,
      "outputs": []
    },
    {
      "cell_type": "markdown",
      "source": [
        "The above function is supposed to return two vectors, say `t_nearest` and `v_nearest` consisting of $n+1$ elements each. For testing how the function works, we can print the data and see what we are getting. If our implementation is correct, then we should be getting $[15], [362.78]$ for $n=0$. Run the following cell to check this:"
      ],
      "metadata": {
        "id": "w25YRkvd9XEh"
      }
    },
    {
      "cell_type": "code",
      "source": [
        "n = 0\n",
        "t_new = 16\n",
        "\n",
        "t_nearest, v_nearest = NearestPoints(t, v, n, t_new)\n",
        "print(t_nearest)\n",
        "print(v_nearest)"
      ],
      "metadata": {
        "id": "FSo0cJ1TkmRN",
        "colab": {
          "base_uri": "https://localhost:8080/"
        },
        "outputId": "6744601b-9f53-41ea-f24d-d1bab76f510b"
      },
      "execution_count": null,
      "outputs": [
        {
          "output_type": "stream",
          "name": "stdout",
          "text": [
            "[(1, 2), (4, 3), (6, 1), (6.5, 4), (14, 5), (16, 0)]\n",
            "[(1, 2)]\n",
            "[15]\n",
            "[362.78]\n"
          ]
        }
      ]
    },
    {
      "cell_type": "code",
      "source": [
        "n = 1\n",
        "t_new = 16\n",
        "\n",
        "t_nearest, v_nearest = NearestPoints(t, v, n, t_new)\n",
        "print(t_nearest)\n",
        "print(v_nearest)"
      ],
      "metadata": {
        "id": "z5SN6pQj9Z7Q",
        "colab": {
          "base_uri": "https://localhost:8080/"
        },
        "outputId": "2b12d05c-c7ae-4189-a72d-7fb7e1bf7e7a"
      },
      "execution_count": null,
      "outputs": [
        {
          "output_type": "stream",
          "name": "stdout",
          "text": [
            "[(1, 2), (4, 3), (6, 1), (6.5, 4), (14, 5), (16, 0)]\n",
            "[(1, 2), (4, 3)]\n",
            "[15, 20]\n",
            "[362.78, 517.35]\n"
          ]
        }
      ]
    },
    {
      "cell_type": "markdown",
      "source": [
        "The output for $n=1$ should be $[15, 20], [362.78, 517.35]$"
      ],
      "metadata": {
        "id": "JdaIx97ljwYk"
      }
    },
    {
      "cell_type": "code",
      "source": [
        "n = 2\n",
        "t_new = 16\n",
        "\n",
        "t_nearest, v_nearest = NearestPoints(t, v, n, t_new)\n",
        "print(t_nearest)\n",
        "print(v_nearest)"
      ],
      "metadata": {
        "id": "hOb4TMsTkBjs",
        "colab": {
          "base_uri": "https://localhost:8080/"
        },
        "outputId": "314b5d10-f858-4f64-d920-7a86e49ffc61"
      },
      "execution_count": null,
      "outputs": [
        {
          "output_type": "stream",
          "name": "stdout",
          "text": [
            "[(1, 2), (4, 3), (6, 1), (6.5, 4), (14, 5), (16, 0)]\n",
            "[(1, 2), (4, 3), (6, 1)]\n",
            "[10, 15, 20]\n",
            "[227.04, 362.78, 517.35]\n"
          ]
        }
      ]
    },
    {
      "cell_type": "markdown",
      "source": [
        "The output for $n=2$ should be $[15, 20, 10], [362.78, 517.35, 227.04]$"
      ],
      "metadata": {
        "id": "KzFR4QO8kFRn"
      }
    },
    {
      "cell_type": "markdown",
      "metadata": {
        "id": "Z6sc0ZNUUGNk"
      },
      "source": [
        "## Task 2\n",
        "Now your task is to design a generalized function that takes the given data as parameters as well as the order $n$ of the polynomial and uses the *Direct Interpolation* method to interpolate the unknown data at $t_{new}$. The following cell contains the function to be implemented:"
      ]
    },
    {
      "cell_type": "code",
      "metadata": {
        "id": "auvD4iV1DE7q"
      },
      "source": [
        "def DirectInterpolation(t, v, n, t_new):\n",
        "\n",
        "    t_nearest, v_nearest = NearestPoints(t, v, n, t_new)\n",
        "    interpolation_value = 0\n",
        "\n",
        "    for k in range(n+1):\n",
        "      product_value = 1\n",
        "\n",
        "      for i in range(n+1):\n",
        "        if i != k:\n",
        "          product_value *= (t_new - t_nearest[i]) / (t_nearest[k] - t_nearest[i])\n",
        "\n",
        "      interpolation_value += v_nearest[k] * product_value\n",
        "      return interpolation_value"
      ],
      "execution_count": null,
      "outputs": []
    },
    {
      "cell_type": "code",
      "metadata": {
        "id": "zHadfasm8dUF"
      },
      "source": [
        "## L(x) = mul [(x-xi) / (xk-xi)] - while i != k\n",
        "## P(x) = sum [(y . L (x))]\n",
        "\n",
        "def DirectInterpolationFunc(t, v, n, t_new):\n",
        "\n",
        "    t_nearest, v_nearest = NearestPoints(t, v, n, t_new)\n",
        "\n",
        "    def f(x):\n",
        "\n",
        "      sum = 0\n",
        "      for k in range(n+1):\n",
        "        mul = 1\n",
        "\n",
        "        for i in range(n+1):\n",
        "          if i != k:\n",
        "            mul *= (x - t_nearest[i]) / (t_nearest[k] - t_nearest[i])\n",
        "\n",
        "        sum += v_nearest[k] * mul\n",
        "      return sum\n",
        "\n",
        "    return f\n",
        "\n",
        "def eval(f, t_new):\n",
        "    return f(t_new)"
      ],
      "execution_count": null,
      "outputs": []
    },
    {
      "cell_type": "markdown",
      "metadata": {
        "id": "t1yWM5V18cA2"
      },
      "source": [
        "Note that the above function will at first need to find a number of closest points to the unknown data $t_{new}$, and this number will vary depending on the order $n$ of the polynomial that we want to use as the interpolating function. So you will have to call the function you implemented in Task 1 inside this function."
      ]
    },
    {
      "cell_type": "code",
      "source": [
        "res = DirectInterpolationFunc(t, v, 1, 16)\n",
        "print(eval(res,16))"
      ],
      "metadata": {
        "id": "91g2Q0pTm0Ds",
        "colab": {
          "base_uri": "https://localhost:8080/"
        },
        "outputId": "7eb16a0f-edc3-4d0b-c527-254bcbf66dbd"
      },
      "execution_count": null,
      "outputs": [
        {
          "output_type": "stream",
          "name": "stdout",
          "text": [
            "[(1, 2), (4, 3), (6, 1), (6.5, 4), (14, 5), (16, 0)]\n",
            "[(1, 2), (4, 3)]\n",
            "393.694\n"
          ]
        }
      ]
    },
    {
      "cell_type": "markdown",
      "source": [
        "For $n=1$, we should get $v(16) = 393.7ms^{-1}$."
      ],
      "metadata": {
        "id": "kb6DPOAmnIq7"
      }
    },
    {
      "cell_type": "code",
      "source": [
        "res = DirectInterpolationFunc(t, v, 2, 16)\n",
        "print(eval(res,16))"
      ],
      "metadata": {
        "id": "dqVSikEhnERc",
        "colab": {
          "base_uri": "https://localhost:8080/"
        },
        "outputId": "2a9b57e2-5b5f-4c2b-8121-d998c58fa16c"
      },
      "execution_count": null,
      "outputs": [
        {
          "output_type": "stream",
          "name": "stdout",
          "text": [
            "[(1, 2), (4, 3), (6, 1), (6.5, 4), (14, 5), (16, 0)]\n",
            "[(1, 2), (4, 3), (6, 1)]\n",
            "392.1875999999999\n"
          ]
        }
      ]
    },
    {
      "cell_type": "markdown",
      "source": [
        "For $n=2$, we should get $v(16) = 392.19ms^{-1}$."
      ],
      "metadata": {
        "id": "4eCg93mknX20"
      }
    },
    {
      "cell_type": "code",
      "source": [
        "res = DirectInterpolationFunc(t, v, 3, 16)\n",
        "print(eval(res,16))"
      ],
      "metadata": {
        "id": "eabSBX2WnEsS",
        "colab": {
          "base_uri": "https://localhost:8080/"
        },
        "outputId": "14fd0975-2ff6-4ac3-c930-5178790a09e2"
      },
      "execution_count": null,
      "outputs": [
        {
          "output_type": "stream",
          "name": "stdout",
          "text": [
            "[(1, 2), (4, 3), (6, 1), (6.5, 4), (14, 5), (16, 0)]\n",
            "[(1, 2), (4, 3), (6, 1), (6.5, 4)]\n",
            "392.057168\n"
          ]
        }
      ]
    },
    {
      "cell_type": "markdown",
      "source": [
        "For $n=3$, we should get $v(16) = 392.06ms^{-1}$."
      ],
      "metadata": {
        "id": "GvFpwbNmnez_"
      }
    },
    {
      "cell_type": "markdown",
      "metadata": {
        "id": "rcyU1bzM9u3g"
      },
      "source": [
        "##Task 3\n",
        "Now, test the function using different order of polynomials, setting $n = 1, 2,$ and $3$ and so on and print the absolute relative approximate error at each step. Also generate a plot of Order $(n)$ vs Relative Approximate Error $(|\\epsilon_a|\\%)$. In case you do not remember how graphs can be plotted in Python, here is a sample code showing how to do it using the `matplotlib` library."
      ]
    },
    {
      "cell_type": "code",
      "metadata": {
        "id": "HcPhTbIu_sn4",
        "colab": {
          "base_uri": "https://localhost:8080/",
          "height": 472
        },
        "outputId": "4351c765-9fc7-4072-d75b-d1ad3d9e2199"
      },
      "source": [
        "import numpy as np\n",
        "import matplotlib.pyplot as plt\n",
        "\n",
        "iters = np.arange(0, 5) #start=0, stop=5, and since no step is given, so default step=1\n",
        "vals = np.arange(100, 200, 20) #start=100, stop=200, step=20\n",
        "\n",
        "plt.plot(iters, vals)\n",
        "plt.title(\"Iterations vs values plot\")\n",
        "plt.xlabel(\"Iteration\")\n",
        "plt.ylabel(\"Value\")\n",
        "plt.show()"
      ],
      "execution_count": null,
      "outputs": [
        {
          "output_type": "display_data",
          "data": {
            "text/plain": [
              "<Figure size 640x480 with 1 Axes>"
            ],
            "image/png": "[encoded data removed]"
          },
          "metadata": {}
        }
      ]
    },
    {
      "cell_type": "code",
      "source": [
        "# relative error = | (true_value - interpolated_value) / true_value | * 100\n",
        "rel_errors = []\n",
        "\n",
        "t_new = 16\n",
        "\n",
        "interpolated_value_1 = DirectInterpolation(t, v, 2, t_new)\n",
        "interpolated_value_2 = DirectInterpolation(t, v, 3, t_new)\n",
        "interpolated_value_3 = DirectInterpolation(t, v, 4, t_new)\n",
        "\n",
        "true_value_1 = DirectInterpolation(t, v, 1, t_new)\n",
        "true_value_2 = DirectInterpolation(t, v, 2, t_new)\n",
        "true_value_3 = DirectInterpolation(t, v, 3, t_new)\n",
        "\n",
        "relative_error_1 = abs((true_value_1 - interpolated_value_1) / true_value_1)\n",
        "relative_error_2 = abs((true_value_2 - interpolated_value_2) / true_value_2)\n",
        "relative_error_3 = abs((true_value_3 - interpolated_value_3) / true_value_3)\n",
        "\n",
        "rel_errors.append(relative_error_1)\n",
        "rel_errors.append(relative_error_2)\n",
        "rel_errors.append(relative_error_3)\n",
        "\n",
        "print(rel_errors)\n",
        "\n",
        "n = [ 2, 3, 4]\n",
        "\n",
        "plt.plot(n, rel_errors)\n",
        "plt.title(\"Order vs Relative Approximate Error\")\n",
        "plt.xlabel(\"Order\")\n",
        "plt.ylabel(\"Relative Approximate Error\")\n",
        "plt.show()"
      ],
      "metadata": {
        "id": "YDxTWEDA_PzH",
        "colab": {
          "base_uri": "https://localhost:8080/",
          "height": 705
        },
        "outputId": "cb47835a-f152-4894-bd5b-a15f5ce41239"
      },
      "execution_count": null,
      "outputs": [
        {
          "output_type": "stream",
          "name": "stdout",
          "text": [
            "[(1, 2), (4, 3), (6, 1), (6.5, 4), (14, 5), (16, 0)]\n",
            "[(1, 2), (4, 3)]\n",
            "[(1, 2), (4, 3), (6, 1), (6.5, 4), (14, 5), (16, 0)]\n",
            "[(1, 2), (4, 3), (6, 1)]\n",
            "[(1, 2), (4, 3), (6, 1), (6.5, 4), (14, 5), (16, 0)]\n",
            "[(1, 2), (4, 3), (6, 1), (6.5, 4)]\n",
            "[(1, 2), (4, 3), (6, 1), (6.5, 4), (14, 5), (16, 0)]\n",
            "[(1, 2), (4, 3), (6, 1)]\n",
            "[(1, 2), (4, 3), (6, 1), (6.5, 4), (14, 5), (16, 0)]\n",
            "[(1, 2), (4, 3), (6, 1), (6.5, 4)]\n",
            "[(1, 2), (4, 3), (6, 1), (6.5, 4), (14, 5), (16, 0)]\n",
            "[(1, 2), (4, 3), (6, 1), (6.5, 4), (14, 5)]\n",
            "[1.0625833838690115, 0.4799999999999999, 0.30000000000000004]\n"
          ]
        },
        {
          "output_type": "display_data",
          "data": {
            "text/plain": [
              "<Figure size 640x480 with 1 Axes>"
            ],
            "image/png": "[encoded data removed]"
          },
          "metadata": {}
        }
      ]
    },
    {
      "cell_type": "markdown",
      "source": [
        "##Task 4\n",
        "Now, write a function for evaluating the acceleration at $t = 16$"
      ],
      "metadata": {
        "id": "TQaze05x-0B6"
      }
    },
    {
      "cell_type": "code",
      "source": [
        "#implement the acceleration function\n",
        "import numpy as np\n",
        "import numpy.polynomial.polynomial as poly\n",
        "\n",
        "def acceleration(f, t_new):\n",
        "  coefficients = poly.polyfit(t, v, 1)\n",
        "  polynomial = poly.Polynomial(coefficients)\n",
        "\n",
        "  derivative = polynomial.deriv()\n",
        "\n",
        "  derivative_at_t_new = derivative(t_new)\n",
        "  return derivative_at_t_new"
      ],
      "metadata": {
        "id": "M3Vhtwnu-99O"
      },
      "execution_count": null,
      "outputs": []
    },
    {
      "cell_type": "code",
      "source": [
        "polynomial_func = DirectInterpolationFunc(t, v, 1, 16)\n",
        "accel = acceleration(polynomial_func, 16)\n",
        "print(accel)"
      ],
      "metadata": {
        "colab": {
          "base_uri": "https://localhost:8080/"
        },
        "id": "WrNBkH_VJdpI",
        "outputId": "25178350-2dab-4ba2-ffda-49daa113a535"
      },
      "execution_count": null,
      "outputs": [
        {
          "output_type": "stream",
          "name": "stdout",
          "text": [
            "[(1, 2), (4, 3), (6, 1), (6.5, 4), (14, 5), (16, 0)]\n",
            "[(1, 2), (4, 3)]\n",
            "29.68523428571428\n"
          ]
        }
      ]
    }
  ]
}